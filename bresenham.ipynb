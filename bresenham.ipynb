{
 "cells": [
  {
   "cell_type": "markdown",
   "metadata": {},
   "source": []
  },
  {
   "cell_type": "code",
   "execution_count": 57,
   "metadata": {},
   "outputs": [
    {
     "name": "stdout",
     "output_type": "stream",
     "text": [
      "10 7 0\n",
      "9 6 -6\n",
      "8 6 8\n",
      "7 5 2\n",
      "6 4 -4\n",
      "5 3 -10\n",
      "4 3 4\n",
      "3 2 -2\n",
      "2 1 -8\n",
      "1 1 6\n",
      "0 0 0\n"
     ]
    },
    {
     "data": {
      "image/png": "[encoded data removed]",
      "text/plain": [
       "<Figure size 640x480 with 1 Axes>"
      ]
     },
     "metadata": {},
     "output_type": "display_data"
    }
   ],
   "source": [
    "from PIL import Image\n",
    "import matplotlib.pyplot as plt\n",
    "\n",
    "\n",
    "\n",
    "\n",
    "\n",
    "    \n",
    "def bresenham(x1 : int,y1 : int, x2 : int, y2 : int):\n",
    "    \n",
    "    DIMENSION = 20\n",
    "\n",
    "    img = Image.new('RGB',(DIMENSION,DIMENSION))\n",
    "    dx = abs(x2 - x1)\n",
    "    dy = abs(y2 - y1)\n",
    "    #tg = dy/dx\n",
    "\n",
    "    step_x = 1 if x2 - x1 >= 0 else -1\n",
    "    step_y = 1 if y2 - y1 >=0 else -1\n",
    "\n",
    "    eps = 0 #error\n",
    "\n",
    "    y = y1\n",
    "    x = x1\n",
    "    #img.putpixel((x,y),255)\n",
    "    #for x in range(x1,x2+1)\n",
    "\n",
    "    \n",
    "    while (x != x2 + step_x and y != y2 + step_y):\n",
    "        \n",
    "        if (dx == 0):\n",
    "            while (y != (y2 + step_y)):\n",
    "                img.putpixel(( x,y),255)\n",
    "                y += step_y\n",
    "        \n",
    "        if (dy == 0):\n",
    "            while (x != x2 ):\n",
    "                print(x)\n",
    "                img.putpixel(( x,y),255)\n",
    "                x += step_x\n",
    "\n",
    "        if (dx != 0):\n",
    "            if eps >= dx:\n",
    "                y +=step_y\n",
    "                eps -= 2 * dx\n",
    "            print(x,y,eps)\n",
    "            eps += 2*dy\n",
    "            img.putpixel(( x,y),255)\n",
    "            x += step_x\n",
    "    \n",
    "\n",
    "\n",
    "\n",
    "\n",
    "    img.save(\"a.png\")\n",
    "    plt.imshow(img)\n",
    "    plt.show()\n",
    "\n",
    "    return None\n",
    "\n",
    "\n",
    "\n",
    "if __name__ == \"__main__\":\n",
    "    #bresenham(0,0,10,7)\n",
    "    bresenham(10,7,0,0)"
   ]
  }
 ],
 "metadata": {
  "kernelspec": {
   "display_name": "venv",
   "language": "python",
   "name": "python3"
  },
  "language_info": {
   "codemirror_mode": {
    "name": "ipython",
    "version": 3
   },
   "file_extension": ".py",
   "mimetype": "text/x-python",
   "name": "python",
   "nbconvert_exporter": "python",
   "pygments_lexer": "ipython3",
   "version": "3.10.12"
  },
  "orig_nbformat": 4
 },
 "nbformat": 4,
 "nbformat_minor": 2
}
